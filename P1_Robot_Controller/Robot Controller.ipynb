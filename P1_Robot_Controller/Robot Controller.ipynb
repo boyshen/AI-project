{
 "cells": [
  {
   "cell_type": "markdown",
   "metadata": {},
   "source": [
    "## 控制迷宫寻宝机器人\n",
    "\n",
    "在这个项目中，你将使用刚刚学到的知识，尝试根据要求，编写代码，来控制一个机器人，在模拟环境中行走，并找到目标宝藏。\n",
    "\n",
    "机器人所在的模拟环境中，会包含这样几个因素：机器人的起点、障碍物、宝藏箱。你的任务包括：\n",
    "\n",
    "1. 分析模拟环境的数据\n",
    "2. 控制机器人随机行动\n",
    "3. （可选）控制机器人走到终点\n",
    "\n",
    "\n",
    "* 一个良好的含有注释的代码，可以让你的程序可读性更高，尝试为你自己的代码添加相应的注释。"
   ]
  },
  {
   "cell_type": "markdown",
   "metadata": {},
   "source": [
    "---\n",
    "\n",
    "---\n",
    "\n",
    "## 第一节 分析模拟环境的数据\n",
    "\n",
    "首先，只有足够了解机器人所在的环境，我们的机器人才能成功找到目标宝藏，因此首先我们来对机器人所在环境的数据进行分析。在这个部分，会考察你对数据结构、控制流的了解。\n"
   ]
  },
  {
   "cell_type": "markdown",
   "metadata": {},
   "source": [
    "### 1.1 理解模拟环境数据的储存格式\n",
    "\n",
    "首先我们思考这样的问题：如何存储模拟环境的数据呢？\n",
    "\n",
    "我们将我们的模拟环境抽象成一个格子世界，每个格子按照坐标编号进行标记；每个格子中会有四个情况，分别为普通格子（可通行）、机器人的起点（可通行）、障碍物（不可通行）、宝藏箱（目标点）。例如，一个模拟环境就可以抽象成3行4列的格子世界，并按这按这样的方法进行存储：\n",
    "```\n",
    "environment = [[0,0,0,2], \n",
    "               [1,2,0,0],\n",
    "               [0,2,3,2]]\n",
    "```\n",
    "我们用了一个列表来保存虚拟世界的数据。外层列表中的每一个元素依然是一个列表，它代表模拟环境中每行的数据。而对于这个列表中的每个元素都是一个数，它们的含义是：\n",
    "- 0: 普通格子（可通行）\n",
    "- 1: 机器人的起点（可通行）\n",
    "- 2: 障碍物（不可通行）\n",
    "- 3: 宝藏箱（目标点）\n",
    "\n",
    "那么，根据上述的数据，这个迷宫的第二行第一列，是我们机器人的起点。\n",
    "\n",
    "__注：我们描述的迷宫的坐标位置（第一行第一列），和迷宫下标索引的值（如 `(0,0)`）是不一样的，请注意下标的问题。__\n",
    "\n",
    "\n",
    "如下的代码，使用了辅助函数，读取了模拟环境的数据，并保存在了 `env_data` 变量中。\n"
   ]
  },
  {
   "cell_type": "code",
   "execution_count": 13,
   "metadata": {},
   "outputs": [
    {
     "name": "stdout",
     "output_type": "stream",
     "text": [
      "maze-id 1-1537696569\n",
      "[[3, 2, 2, 2, 2, 2, 2, 2, 1],\n",
      " [0, 0, 2, 2, 2, 2, 2, 0, 0],\n",
      " [2, 0, 0, 2, 2, 2, 0, 0, 2],\n",
      " [2, 2, 0, 0, 2, 0, 0, 2, 2],\n",
      " [2, 2, 2, 0, 0, 0, 2, 2, 2]]\n"
     ]
    }
   ],
   "source": [
    "import helper\n",
    "\n",
    "env_data = helper.fetch_maze()"
   ]
  },
  {
   "cell_type": "markdown",
   "metadata": {},
   "source": [
    "---\n",
    "\n",
    "\n",
    "**任务1：**在如下代码中，请写代码获得这些值：\n",
    "\n",
    "1. 模拟环境的长和宽\n",
    "2. 模拟环境中第3行第6列元素"
   ]
  },
  {
   "cell_type": "code",
   "execution_count": 14,
   "metadata": {},
   "outputs": [
    {
     "name": "stdout",
     "output_type": "stream",
     "text": [
      "迷宫共有 5 行 9 列，第三行第六列的元素是 2\n"
     ]
    }
   ],
   "source": [
    "#TODO 1模拟环境的行数\n",
    "rows = len(env_data) \n",
    "\n",
    "#TODO 2模拟环境的列数\n",
    "columns = len(env_data[0])\n",
    "\n",
    "#TODO 3取出模拟环境第三行第六列的元素\n",
    "row_3_col_6 = env_data[2][5]\n",
    "\n",
    "print(\"迷宫共有\", rows, \"行\", columns, \"列，第三行第六列的元素是\", row_3_col_6)"
   ]
  },
  {
   "cell_type": "markdown",
   "metadata": {
    "collapsed": true
   },
   "source": [
    "---\n",
    "\n",
    "## 1.2 分析模拟环境数据\n",
    "\n",
    "接着我们需要对模拟环境的中的数据进行分析。请根据如下的指示，计算相应的值。\n",
    "\n",
    "---\n",
    "\n",
    "**任务2：**在如下代码中，请计算模拟环境中，第一行和第三列的障碍物个数。\n",
    "\n",
    "提示：*可以用循环完成。*"
   ]
  },
  {
   "cell_type": "code",
   "execution_count": 15,
   "metadata": {},
   "outputs": [
    {
     "name": "stdout",
     "output_type": "stream",
     "text": [
      "迷宫中，第一行共有 7 个障碍物，第三列共有 3 个障碍物。\n"
     ]
    }
   ],
   "source": [
    "#TODO 4计算模拟环境中，第一行的的障碍物个数。\n",
    "number_of_barriers_row1 = 0\n",
    "\n",
    "for index in range(0,len(env_data[0])):\n",
    "    if env_data[0][index] == 2:\n",
    "        number_of_barriers_row1 += 1\n",
    "\n",
    "#TODO 5计算模拟环境中，第三列的的障碍物个数。\n",
    "number_of_barriers_col3 = 0\n",
    "\n",
    "for index in range(0,rows): \n",
    "    if env_data[index][2] == 2:\n",
    "        number_of_barriers_col3 += 1\n",
    "\n",
    "print(\"迷宫中，第一行共有\", number_of_barriers_row1, \"个障碍物，第三列共有\", number_of_barriers_col3, \"个障碍物。\")"
   ]
  },
  {
   "cell_type": "code",
   "execution_count": 16,
   "metadata": {},
   "outputs": [
    {
     "name": "stderr",
     "output_type": "stream",
     "text": [
      ".\n",
      "----------------------------------------------------------------------\n",
      "Ran 1 test in 0.001s\n",
      "\n",
      "OK\n"
     ]
    }
   ],
   "source": [
    "%run -i -e test.py RobotControllortTestCase.test_cal_barriers"
   ]
  },
  {
   "cell_type": "markdown",
   "metadata": {},
   "source": [
    "---\n",
    "\n",
    "**任务3：**在如下代码中：\n",
    "\n",
    "1. 创建一个名为 `loc_map` 的字典，它有两个键值，分别为 `start` 和 `destination`，对应的值分别为起点和目标点的坐标，它们以如 `(0,0)` 的形式保存为元组。\n",
    "2. 从字典中取出 `start` 对应的值，保存在 `robot_current_loc` 对应的变量中，这个变量表示小车现在的位置。"
   ]
  },
  {
   "cell_type": "code",
   "execution_count": 17,
   "metadata": {},
   "outputs": [
    {
     "name": "stdout",
     "output_type": "stream",
     "text": [
      "(0, 8)\n"
     ]
    }
   ],
   "source": [
    "loc_map = {} #TODO 6按照上述要求创建字典\n",
    "for row_index in range(0,rows):\n",
    "    for column_index in range(0,columns):\n",
    "        if env_data[row_index][column_index] == 1:\n",
    "            loc_map['start'] = (row_index,column_index)\n",
    "        if env_data[row_index][column_index] == 3:\n",
    "            loc_map['destination'] = (row_index,column_index)\n",
    "\n",
    "robot_current_loc = loc_map['start'] #TODO 7保存机器人当前的位置\n",
    "print (robot_current_loc)"
   ]
  },
  {
   "cell_type": "code",
   "execution_count": 18,
   "metadata": {},
   "outputs": [
    {
     "name": "stderr",
     "output_type": "stream",
     "text": [
      ".\n",
      "----------------------------------------------------------------------\n",
      "Ran 1 test in 0.010s\n",
      "\n",
      "OK\n"
     ]
    }
   ],
   "source": [
    "%run -i -e test.py RobotControllortTestCase.test_cal_loc_map"
   ]
  },
  {
   "cell_type": "markdown",
   "metadata": {},
   "source": [
    "\n",
    "---\n",
    "\n",
    "---\n",
    "\n",
    "## 第二节 控制机器人随机漫步\n",
    "\n",
    "在这一步中，你需发出指令，控制机器人在环境中随机行动。它会考察你对控制流、调用函数的知识。"
   ]
  },
  {
   "cell_type": "markdown",
   "metadata": {},
   "source": [
    "\n",
    "\n",
    "## 2.1 控制机器人行动\n",
    "\n",
    "我们的机器人能够执行四个动作：向上走 `u`、向下走 `d`、向左走 `l`、向右走 `r`。但是，由于有障碍，很多时候机器人的行动并不能成功。所以在这里，你需要实现一个函数，来判断机器人在某个位置，执行某个移动动作是否可行。\n",
    "\n",
    "---\n",
    "\n",
    "**任务4：**在下方代码中，实现名为 `is_move_valid_special` 的函数，它有两个输入，分别为机器人所在的位置坐标 `loc`，以及即将执行的动作 `act`，如 `(1,1)` 及 `u`。接着它的返回是一个布尔值，表明小车在 `loc` 位置下，是否可以执行动作 `act`。\n",
    "\n",
    "\n",
    "提示1：*可以读取上方定义的 `env_data` 变量，来读取模拟环境的数据。*\n",
    "\n",
    "提示2：*在实现函数后，请删去下方的 `pass` 代码。*\n",
    "\n",
    "提示3：*我们需要处理边界的情况，即机器人走到了虚拟环境边界时，是不能够走出虚拟环境的。*"
   ]
  },
  {
   "cell_type": "code",
   "execution_count": 19,
   "metadata": {},
   "outputs": [],
   "source": [
    "def is_move_valid_special(loc, act):\n",
    "    \"\"\"\n",
    "    Judge wether the robot can take action act\n",
    "    at location loc.\n",
    "    \n",
    "    Keyword arguments:\n",
    "    loc -- tuple, robots current location\n",
    "    act -- string, robots meant action\n",
    "    \"\"\"\n",
    "    #TODO 8\n",
    "    value = False\n",
    "    row = loc[0]\n",
    "    column = loc[1]\n",
    "    \n",
    "    #判断是否可以向 上 移动\n",
    "    if act == 'u':\n",
    "        if (row != 0):\n",
    "            if (env_data[row-1][column] == 0) or (env_data[row-1][column] == 3):\n",
    "                value = True\n",
    "    \n",
    "    #判断是否可以向 下 移动\n",
    "    if act == 'd':\n",
    "        if (row != rows-1):\n",
    "            if (env_data[row+1][column] == 0) or (env_data[row+1][column] == 3):\n",
    "                value = True \n",
    "    \n",
    "    #判断是否可以向 左 移动\n",
    "    if act == 'l':\n",
    "        if (column != 0): \n",
    "            if (env_data[row][column-1] == 0) or (env_data[row][column-1] == 3):\n",
    "                value = True\n",
    "    \n",
    "    #判断是否可以向 右 移动\n",
    "    if act == 'r':\n",
    "        if (column != columns-1):\n",
    "            if (env_data[row][column+1] == 0) or (env_data[row][column+1] == 3):\n",
    "                value = True\n",
    "    \n",
    "    return value"
   ]
  },
  {
   "cell_type": "code",
   "execution_count": 20,
   "metadata": {},
   "outputs": [
    {
     "name": "stderr",
     "output_type": "stream",
     "text": [
      ".\n",
      "----------------------------------------------------------------------\n",
      "Ran 1 test in 0.007s\n",
      "\n",
      "OK\n"
     ]
    }
   ],
   "source": [
    "%run -i -e test.py RobotControllortTestCase.test_is_move_valid_special"
   ]
  },
  {
   "cell_type": "markdown",
   "metadata": {},
   "source": [
    "---\n",
    "**任务5：**在下方代码中，重新实现一个名为 `is_move_valid` 的函数，它有三个输入，分别为模拟环境的数据 `env_data`、机器人所在的位置坐标 `loc`、以及即将执行的动作 `act`。它的返回值与此前一样，是一个布尔值，表明小车在给定的虚拟环境中的 `loc` 位置下，是否可以执行动作 `act`。"
   ]
  },
  {
   "cell_type": "code",
   "execution_count": 21,
   "metadata": {},
   "outputs": [],
   "source": [
    "def is_move_valid(env_data, loc, act):\n",
    "    \"\"\"\n",
    "    Judge wether the robot can take action act\n",
    "    at location loc.\n",
    "    \n",
    "    Keyword arguments:\n",
    "    env -- list, the environment data\n",
    "    loc -- tuple, robots current location\n",
    "    act -- string, robots meant action\n",
    "    \"\"\"\n",
    "    #TODO 9\n",
    "    value = False\n",
    "    row = loc[0]\n",
    "    column = loc[1]\n",
    "    \n",
    "    rows = len(env_data)\n",
    "    columns = len(env_data[0])\n",
    "    \n",
    "    #判断是否可以向 上 移动\n",
    "    if act == 'u':\n",
    "        if (row != 0):\n",
    "            if (env_data[row-1][column] == 0) or (env_data[row-1][column] == 3):\n",
    "                value = True\n",
    "    \n",
    "    #判断是否可以向 下 移动\n",
    "    if act == 'd':\n",
    "        if (row != rows-1):\n",
    "            if (env_data[row+1][column] == 0) or (env_data[row+1][column] == 3):\n",
    "                value = True \n",
    "    \n",
    "    #判断是否可以向 左 移动\n",
    "    if act == 'l':\n",
    "        if (column != 0): \n",
    "            if (env_data[row][column-1] == 0) or (env_data[row][column-1] == 3):\n",
    "                value = True\n",
    "    \n",
    "    #判断是否可以向 右 移动\n",
    "    if act == 'r':\n",
    "        if (column != columns-1):\n",
    "            if (env_data[row][column+1] == 0) or (env_data[row][column+1] == 3):\n",
    "                value = True\n",
    "    \n",
    "    return value"
   ]
  },
  {
   "cell_type": "code",
   "execution_count": 22,
   "metadata": {},
   "outputs": [
    {
     "name": "stderr",
     "output_type": "stream",
     "text": [
      ".\n",
      "----------------------------------------------------------------------\n",
      "Ran 1 test in 0.007s\n",
      "\n",
      "OK\n"
     ]
    }
   ],
   "source": [
    "%run -i -e test.py RobotControllortTestCase.test_is_move_valid"
   ]
  },
  {
   "cell_type": "markdown",
   "metadata": {},
   "source": [
    "---\n",
    "\n",
    "**任务6：**请回答：\n",
    "  1. 在任务4及任务5中的实现的两个函数中，`env_data` 这个变量有什么不同？\n",
    "  2. 调用``is_move_valid``函数，参数为``env_data_``、``loc_``、``act_``，如果在函数内修改``env_data``是否会改变``env_data_``的值？为什么？\n",
    "\n",
    "提示：_可以尝试从变量作用域的角度回答该问题1。_\n",
    "\n",
    "\n",
    "提示：_可以尝试从可变类型变量和不可变类型变量的角度回答该问题2。_\n",
    "\n"
   ]
  },
  {
   "cell_type": "markdown",
   "metadata": {},
   "source": [
    "**回答：** （请在这里填写你的回答）\n",
    "1. 在任务4及任务5中的实现的两个函数中，`env_data` 这个变量有什么不同？\n",
    " 答：变量的作用域不同。\n",
    "         任务4中的 env_data 为函数外定义的变量，为全局变量。全局变量下所有作用域可读。\n",
    "         任务5中的 env_data 为函数内的变量，为局部变量。局部变量仅函数内部可读\n",
    "  \n",
    " 2. 调用``is_move_valid``函数，参数为``env_data_``、``loc_``、``act_``，如果在函数内修改``env_data``是否会改变``env_data_``的值？为什么？\n",
    " 答：会改变\n",
    "        env_data 为列表.可变类型\n",
    "        python 可变类型：列表、字典\n",
    "        python 不可变类型：元祖、字符串、数字"
   ]
  },
  {
   "cell_type": "markdown",
   "metadata": {},
   "source": [
    "---\n",
    "\n",
    "## 2.2 机器人可行动作\n",
    "\n",
    "---\n",
    "\n",
    "**任务7：**编写一个名为 `valid_actions` 的函数。它有两个输入，分别为虚拟环境的数据 `env_data`，以及机器人所在的位置 `loc`，输出是一个列表，表明机器人在这个位置所有的可行动作。\n",
    "\n",
    "提示：*可以尝试调用上方定义的`is_move_valid`函数。*\n"
   ]
  },
  {
   "cell_type": "code",
   "execution_count": 23,
   "metadata": {},
   "outputs": [],
   "source": [
    "## TODO 10 从头定义、实现你的函数\n",
    "def valid_actions(env_data,loc):\n",
    "    act_list = ['u','d','l','r']\n",
    "    loc_list = list()\n",
    "    \n",
    "    for act in act_list:\n",
    "        if is_move_valid(env_data,loc,act) :\n",
    "            loc_list.append(act)\n",
    "    return loc_list"
   ]
  },
  {
   "cell_type": "code",
   "execution_count": 24,
   "metadata": {},
   "outputs": [
    {
     "name": "stderr",
     "output_type": "stream",
     "text": [
      ".\n",
      "----------------------------------------------------------------------\n",
      "Ran 1 test in 0.008s\n",
      "\n",
      "OK\n"
     ]
    }
   ],
   "source": [
    "%run -i -e test.py RobotControllortTestCase.test_valid_actions"
   ]
  },
  {
   "cell_type": "markdown",
   "metadata": {},
   "source": [
    "---\n",
    "\n",
    "## 2.3 移动机器人\n",
    "\n",
    "当机器人收到一个动作的时候，你机器人的位置应发生相应的变化。\n",
    "\n",
    "**任务8：**编写一个名为 `move_robot` 的函数，它有两个输入，分别为机器人当前所在的位置 `loc` 和即将执行的动作 `act`。接着会返回机器人执行动作之后的新位置 `new_loc`。"
   ]
  },
  {
   "cell_type": "code",
   "execution_count": 25,
   "metadata": {},
   "outputs": [],
   "source": [
    "##TODO 11 从头定义、实现你的函数\n",
    "def move_robot(loc,act):\n",
    "    row = loc[0]\n",
    "    column = loc[1]\n",
    "    \n",
    "    # 上移\n",
    "    if act == 'u':\n",
    "        row -= 1\n",
    "    \n",
    "    # 下移\n",
    "    if act == 'd':\n",
    "        row += 1\n",
    "    \n",
    "    # 左移\n",
    "    if act == 'l':\n",
    "        column -= 1\n",
    "    \n",
    "    # 右移\n",
    "    if act == 'r':\n",
    "        column += 1\n",
    "        \n",
    "    new_loc = (row,column)\n",
    "    return new_loc"
   ]
  },
  {
   "cell_type": "code",
   "execution_count": 26,
   "metadata": {},
   "outputs": [
    {
     "name": "stderr",
     "output_type": "stream",
     "text": [
      ".\n",
      "----------------------------------------------------------------------\n",
      "Ran 1 test in 0.008s\n",
      "\n",
      "OK\n"
     ]
    }
   ],
   "source": [
    "%run -i -e test.py RobotControllortTestCase.test_move_robot"
   ]
  },
  {
   "cell_type": "markdown",
   "metadata": {},
   "source": [
    "---\n",
    "\n",
    "## 2.4 随机移动机器人\n",
    "\n",
    "接着，我们尝试在虚拟环境中随机移动机器人，看看会有什么效果。\n",
    "\n",
    "**任务9：**编写一个名为 `random_choose_actions` 的函数，它有两个输入，分别为虚拟环境的数据 `env_data`，以及机器人所在的位置 `loc`。机器人会执行一个300次的循环，每次循环，他会执行以下任务：\n",
    "\n",
    "1. 利用上方定义的 `valid_actions` 函数，找出当前位置下，机器人可行的动作；\n",
    "2. 利用 `random` 库中的 `choice` 函数，从机器人可行的动作中，随机挑选出一个动作；\n",
    "3. 接着根据这个动作，利用上方定义的 `move_robot` 函数，来移动机器人，并更新机器人的位置；\n",
    "4. 当机器人走到终点时，输出“在第n个回合找到宝藏！”。\n",
    "\n",
    "提示：如果机器人无法在300个回合内找到宝藏的话，试试看增大这个数字，也许会有不错的效果 :P"
   ]
  },
  {
   "cell_type": "code",
   "execution_count": 27,
   "metadata": {},
   "outputs": [],
   "source": [
    "##TODO 12 从头实现你的函数\n",
    "import random\n",
    "def random_choose_actions(env_data,loc):\n",
    "    new_loc = loc\n",
    "    destination_loc = loc_map['destination']\n",
    "    count = 1\n",
    "    for count in range(1,300,1):\n",
    "        move_list = valid_actions(env_data,new_loc)\n",
    "        act = random.choice(move_list)\n",
    "        new_loc = move_robot(new_loc,act)\n",
    "        if new_loc[0] == destination_loc[0] and new_loc[1] == destination_loc[1]:\n",
    "            print (\"在第\",count, \"个回合找到宝藏！\")\n",
    "            break\n",
    "        count += 1"
   ]
  },
  {
   "cell_type": "code",
   "execution_count": 28,
   "metadata": {},
   "outputs": [
    {
     "name": "stdout",
     "output_type": "stream",
     "text": [
      "在第 60 个回合找到宝藏！\n"
     ]
    }
   ],
   "source": [
    "# 运行\n",
    "random_choose_actions(env_data, robot_current_loc)"
   ]
  },
  {
   "cell_type": "markdown",
   "metadata": {},
   "source": [
    "\n",
    "---\n",
    "\n",
    "---\n",
    "\n",
    "## （可选）第三节 控制机器人走到终点\n",
    "\n",
    "## 3.1 控制机器人走到终点\n",
    "\n",
    "在这里，你将综合上述的知识，编码控制机器人走到终点。这个任务对刚刚入门的你来说可能有些挑战，所以它是一个选做题。\n",
    "\n",
    "**任务10**：尝试实现一个算法，能够对给定的模拟环境，输出机器人的行动策略，使之能够走到终点。\n",
    "\n",
    "提示：_你可以尝试参考：_\n",
    "* 深度/广度优先算法。\n",
    "    以及以下参考资料：\n",
    "    1. https://blog.csdn.net/raphealguo/article/details/7523411 \n",
    "    2. https://www.cnblogs.com/yupeng/p/3414736.html \n",
    "* A星算法。\n",
    "    以及以下参考资料：\n",
    "    1. https://baike.baidu.com/item/A%2A算法 \n",
    "    2. https://blog.csdn.net/hitwhylz/article/details/23089415"
   ]
  },
  {
   "cell_type": "code",
   "execution_count": 65,
   "metadata": {},
   "outputs": [
    {
     "name": "stdout",
     "output_type": "stream",
     "text": [
      "在第 16 个回合找到宝藏！\n"
     ]
    }
   ],
   "source": [
    "##TODO 13 实现你的算法\n",
    "class node(object):\n",
    "    \"\"\"\n",
    "        节点类\n",
    "         father_node --- 父节点对象的key\n",
    "         loc --- 元祖、当前节点坐标\n",
    "         acl --- 行为标签\n",
    "         lable --- w ：坐标点未被访问、r：已探寻过的坐标点\n",
    "    \"\"\"\n",
    "    \n",
    "    father_node_key,loc,act,lable = None,None,None,None\n",
    "    \n",
    "    def __init__(self,father_node_key,loc,act=None,lable='w'):\n",
    "        self.father_node_key = father_node_key\n",
    "        self.loc = loc\n",
    "        self.act = act\n",
    "        self.lable = lable\n",
    "    \n",
    "    def __str__(self):\n",
    "        string = \"father node key: \" + str(self.father_node_key) + \" loc:\" + str(self.loc)  +  \" act:\" + str(self.act)  +  \" lable:\" + str(self.lable)\n",
    "        return string\n",
    "\n",
    "from collections import deque\n",
    "\"\"\"广度优先算法，找到最短路径\n",
    "输入： \n",
    "loc --- 元祖、起点坐标\n",
    "destination --- 元祖、终点坐标\n",
    "env_data --- list、模拟环境数据\n",
    "\n",
    "返回：\n",
    "false --- 未找到最短路径\n",
    "act_list --- 路径列表、例如 【‘l’、‘u’、’d‘】\n",
    "\"\"\"\n",
    "def reboot_BFS(loc,destination,env_data):\n",
    "    # 保存探寻过的节点\n",
    "    dict_node = {}\n",
    "    \n",
    "    # 探寻节点队列\n",
    "    deque_node = deque()\n",
    "    \n",
    "    start_node = node(father_node_key='start',loc=loc,lable='w')\n",
    "    deque_node.append(start_node)\n",
    "    \n",
    "    #print (start_node)\n",
    "    \n",
    "    n = 0\n",
    "    while deque_node:\n",
    "        search_node = deque_node.popleft()\n",
    "        \n",
    "        # 检查该节点是否被探寻过\n",
    "        if search_node.lable == 'r':\n",
    "            continue\n",
    "            \n",
    "        #设置该节点探寻过\n",
    "        search_node.lable = 'r'\n",
    "        \n",
    "        #加入探寻过的节点列表，以vn为key保存节点\n",
    "        n=n+1\n",
    "        node_key = 'v{}'.format(n)\n",
    "        dict_node[node_key] = search_node\n",
    "\n",
    "        # 分别从上、下、左、右四个方向搜查\n",
    "        act_list = ['u','d','l','r']\n",
    "        for act in act_list:\n",
    "            \n",
    "            new_loc = None\n",
    "            new_act = None\n",
    "            \n",
    "            # 计算出邻近可执行的节点\n",
    "            if is_move_valid(env_data,search_node.loc,act) == True:\n",
    "                new_act = act\n",
    "                new_loc = move_robot(search_node.loc,act)\n",
    "            else:\n",
    "                continue\n",
    "                \n",
    "            # 判断邻近可执行节点是否为终点\n",
    "            if new_loc[0] == destination[0] and new_loc[1] == destination[1]:\n",
    "                # 找到终点，计算出最短路径返回\n",
    "                deque_act = deque()\n",
    "                deque_act.append(new_act)\n",
    "                deque_act.append(search_node.act)\n",
    "                \n",
    "                father_node = search_node\n",
    "                for count in range(len(dict_node)):\n",
    "                    father_node_key = father_node.father_node_key\n",
    "                    father_node = dict_node.get(father_node_key)\n",
    "                    \n",
    "                    if father_node.father_node_key == 'start':\n",
    "                        return deque_act\n",
    "                    \n",
    "                    deque_act.append(father_node.act)\n",
    "\n",
    "            # 加入探寻节点队列\n",
    "            new_node = node(father_node_key=node_key,loc=new_loc,act=new_act)\n",
    "            deque_node.append(new_node)\n",
    "       \n",
    "    return False\n",
    "\n",
    "start_loc = loc_map['start']\n",
    "destination_loc = loc_map['destination']\n",
    "\n",
    "reboot_act = reboot_BFS(start_loc,destination_loc,env_data)\n",
    "#print (reboot_act)\n",
    "\n",
    "reboot_loc = start_loc\n",
    "count = 1\n",
    "while reboot_act:\n",
    "    reboot_loc = move_robot(reboot_loc,reboot_act.pop())\n",
    "    #print (reboot_loc)\n",
    "    if reboot_loc[0] == destination_loc[0] and reboot_loc[1] == destination_loc[1]:\n",
    "        print (\"在第\",count, \"个回合找到宝藏！\")\n",
    "    count += 1\n"
   ]
  },
  {
   "cell_type": "markdown",
   "metadata": {},
   "source": [
    "> 注意: 当你写完了所有的代码，并且回答了所有的问题。你就可以把你的 iPython Notebook 导出成 HTML 文件。你可以在菜单栏，这样导出**File -> Download as -> HTML (.html)**把这个 HTML 和这个 iPython notebook 一起做为你的作业提交。"
   ]
  },
  {
   "cell_type": "code",
   "execution_count": null,
   "metadata": {},
   "outputs": [],
   "source": []
  }
 ],
 "metadata": {
  "kernelspec": {
   "display_name": "Python 3",
   "language": "python",
   "name": "python3"
  },
  "language_info": {
   "codemirror_mode": {
    "name": "ipython",
    "version": 3
   },
   "file_extension": ".py",
   "mimetype": "text/x-python",
   "name": "python",
   "nbconvert_exporter": "python",
   "pygments_lexer": "ipython3",
   "version": "3.6.5"
  }
 },
 "nbformat": 4,
 "nbformat_minor": 2
}
